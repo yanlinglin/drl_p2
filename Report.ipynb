{
 "cells": [
  {
   "cell_type": "markdown",
   "metadata": {},
   "source": [
    "# Project 2 : Reacher Project (Continuous Control)\n",
    "\n",
    "## Project Report \n",
    "\n",
    "This is the report for the second project in the Udacity Deep Reinforcement Learning Nanodegree. The purpose of this project is to let us learn to use policy-based deep reinforcement learning algorithm to train an agent/agents. In this environment, a double-jointed arm can move to target locations. A reward of +0.1 is provided for each step that the agent's hand is in the goal location. Thus, **the goal of the agent is to maintain its position at the target location for as many time steps as possible.**\n",
    "\n",
    "\n",
    "\n",
    "I choose to solve this project by DDPG algorithm. I am using the code for DDPG from https://github.com/udacity/deep-reinforcement-learning/tree/master/ddpg-pendulum as a starting point.\n",
    "\n",
    "I refer to https://github.com/tlan95/Udacity-DRL-nanodegree-project2-Continuous-Control for the methods to refine the DDPG algorithm hyperparameters. \n",
    "\n",
    "The codes for fine-tuning the hyperparameters and agent training are in **'Continuous_Control.ipynb'**. In that notebook, we run seveveral combinations of hypter parameters for 100 episodes and see their performanced. Then the agent is trained with one set of hyperparameters. The final result show that the agent is ablt to obtain average score of 30 over 100 episodes. \n",
    "\n",
    "In the report, we will see the performance of the trained model.To do so, we will load agent with pretrained parameters and let the agent play with the environment. We then will check the average score of playing 100 episode. "
   ]
  },
  {
   "cell_type": "markdown",
   "metadata": {},
   "source": [
    "## Environment details\n",
    "\n",
    "The environment is based on [Unity ML-agents](https://github.com/Unity-Technologies/ml-agents). The project environment provided by Udacity is similar to the [Reacher](https://github.com/Unity-Technologies/ml-agents/blob/master/docs/Learning-Environment-Examples.md#reacher) environment on the Unity ML-Agents GitHub page.\n",
    "\n",
    "The observation space consists of 33 variables corresponding to position, rotation, velocity, and angular velocities of the arm. Each action is a vector with four numbers, corresponding to torque applicable to two joints. Every entry in the action vector should be a number between -1 and 1.\n",
    "\n",
    "\n",
    "### Code implementation\n",
    "\n",
    "The code for this project is built upon the example from https://github.com/udacity/deep-reinforcement-learning/tree/master/ddpg-pendulum. The codes include:\n",
    "\n",
    "- 'Continuous_Control.ipynb': main code for fine-tuning and training the model;\n",
    "\n",
    "- 'ddpg_agent.py': contains the class for DDPG agent and class for replay buffer. The construnction of these two classes are very similar to DQN. The major difference is that the the DDPG agent acts according to the actor_local network, and the actor_local network is updated alongside the critic_local network when the 'learn()' method is called, while in the DQN, the agent acts according the Q_network and only Q_network is updated. \n",
    "\n",
    "- 'model.py' : contains the neural network for the actor network and critic network. One batch normalization layer is added after the first linear layer in both the actor and critic networks. \n",
    "\n",
    "\n",
    "### DDPG parameters and results\n",
    "\n",
    "#### Methodology\n",
    "\n",
    "I refer to the method in https://github.com/tlan95/Udacity-DRL-nanodegree-project2-Continuous-Control to refine the DDPG algorithm hyperparameters. One inspiration from this method is that the hyper parameters are identified and can be  directly modified when calling the \"ddpg\" function. \n",
    "The set of hyper parameters of the DDPG algorithm copied from the Udacity DRL includes:\n",
    "```\n",
    "max_t=1000, # maximum allowed time step in each episode\n",
    "random_seed=2,\n",
    "update_every=1,# time steps before neural network update from minibatch\n",
    "actor_fc1_units=400, # number of neurons in first layer in actor network\n",
    "actor_fc2_units=300, # number of neurons in second layer in actor network\n",
    "critic_fcs1_units=400, # number of neurons in first layer in critic network\n",
    "critic_fc2_units=300, # number of neurons in second layer in critic network\n",
    "\n",
    "gamma=0.99,  #discount rate\n",
    "tau=1e-3,    #soft update rate\n",
    "\n",
    "lr_actor=1e-4,  # actor network learning rate\n",
    "lr_critic=1e-3, # critic network learning rate\n",
    "weight_decay=0, # neural network weight decay rate\n",
    "\n",
    "mu=0.,  # Ornstein-Uhlenbeck noise parameter\n",
    "theta=0.15, # Ornstein-Uhlenbeck noise parameter\n",
    "sigma=0.2 # Ornstein-Uhlenbeck noise parameter\n",
    "```\n",
    "The following hyper parameters have been changed:\n",
    "\n",
    "- It has been found that max_t should be set to 1000 because Unity Environment will only consider the game \"done\" after 1000 time steps.\n",
    "- actor_fc1_units,actor_fc2_units,critic_fcs1_units,critic_fc2_units. Using smaller neural network can help the agent train better and faster;\n",
    "- lr_actor and lr_critic. Learning rate can be tweaked to achieve better results;\n",
    "- sigma. sigma can be reduced to achieve better training result. \n",
    "- update_every defines after how many time steps the actor and critic network are updated. Using a value larger than 1 can help reduce training time and episodes.\n",
    "\n",
    "As shown in the notebook, after tweaking around 7 sets of hyperparameters, I settle down on a final set of hyperparameters: \n",
    "```\n",
    "max_t=1000, \n",
    "update_every=4, \n",
    "actor_fc1_units=200, \n",
    "actor_fc2_units=150,\n",
    "critic_fcs1_units=200, \n",
    "critic_fc2_units=150,\n",
    "gamma=0.99, \n",
    "tau=1e-3,\n",
    "lr_actor=5e-4, \n",
    "lr_critic=5e-4, \n",
    "weight_decay=0,\n",
    "mu=0.,  \n",
    "theta=0.15,  \n",
    "sigma=0.1 \n",
    "```\n",
    "The scores during training is plot below. It can be observed it takes about 500 episodes to train the agent to obtain an average score over 30.\n",
    "![title](imag/1agent_training.png)\n",
    "\n",
    "\n",
    "We will use the trained agent to play a game for 100 episodes, and shows that it can achieve average score of 30 over 100 episodes. "
   ]
  },
  {
   "cell_type": "code",
   "execution_count": 1,
   "metadata": {},
   "outputs": [],
   "source": [
    "from unityagents import UnityEnvironment\n",
    "import numpy as np\n",
    "import torch\n",
    "import matplotlib.pyplot as plt\n",
    "from collections import deque\n",
    "import numpy as np\n",
    "from unityagents import UnityEnvironment"
   ]
  },
  {
   "cell_type": "code",
   "execution_count": 2,
   "metadata": {},
   "outputs": [
    {
     "name": "stderr",
     "output_type": "stream",
     "text": [
      "INFO:unityagents:\n",
      "'Academy' started successfully!\n",
      "Unity Academy name: Academy\n",
      "        Number of Brains: 1\n",
      "        Number of External Brains : 1\n",
      "        Lesson number : 0\n",
      "        Reset Parameters :\n",
      "\t\tgoal_speed -> 1.0\n",
      "\t\tgoal_size -> 5.0\n",
      "Unity brain name: ReacherBrain\n",
      "        Number of Visual Observations (per agent): 0\n",
      "        Vector Observation space type: continuous\n",
      "        Vector Observation space size (per agent): 33\n",
      "        Number of stacked Vector Observation: 1\n",
      "        Vector Action space type: continuous\n",
      "        Vector Action space size (per agent): 4\n",
      "        Vector Action descriptions: , , , \n"
     ]
    }
   ],
   "source": [
    "env = UnityEnvironment(file_name=\"Reacher.app\")"
   ]
  },
  {
   "cell_type": "code",
   "execution_count": 3,
   "metadata": {},
   "outputs": [],
   "source": [
    "# get the default brain\n",
    "brain_name = env.brain_names[0]\n",
    "brain = env.brains[brain_name]"
   ]
  },
  {
   "cell_type": "code",
   "execution_count": 4,
   "metadata": {},
   "outputs": [],
   "source": [
    "# load the weights from file\n",
    "def let_agent_play():\n",
    "    agent.actor_local.load_state_dict(torch.load('checkpoint_actor.pth'))\n",
    "    agent.critic_local.load_state_dict(torch.load('checkpoint_critic.pth'))\n",
    "    max_t=1000\n",
    "    play_episodes=100\n",
    "    play_scores = []                        # list containing scores from each episode\n",
    "    play_scores_window = deque(maxlen=100)  # last 100 scores\n",
    "    for i_episode in range(1, play_episodes+1):\n",
    "        env_info = env.reset(train_mode=True)[brain_name]\n",
    "        states = env_info.vector_observations     \n",
    "        agent.reset()\n",
    "        score = np.zeros(1)\n",
    "        for t in range(max_t):\n",
    "            actions = agent.act(states)\n",
    "            env_info = env.step(actions)[brain_name]           # send all actions to tne environment\n",
    "            next_states = env_info.vector_observations         # get next state (for each agent)\n",
    "            rewards = env_info.rewards                         # get reward (for each agent)\n",
    "            dones = env_info.local_done                        # see if episode finished\n",
    "            score += rewards                         # update the score (for each agent)\n",
    "            states = next_states                               # roll over states to next time step\n",
    "            if np.any(dones):\n",
    "                break \n",
    "        play_scores_window.append(np.mean(score))       # save most recent score\n",
    "        play_scores.append(np.mean(score))              # save most recent score\n",
    "        print('\\rEpisode {}\\tAverage Score: {:.2f}'.format(i_episode, np.mean(play_scores_window)), end=\"\")\n",
    "        if i_episode % 100 == 0:\n",
    "            print('\\rEpisode {}\\tAverage Score: {:.2f}'.format(i_episode, np.mean(play_scores_window)))\n",
    "    return play_scores"
   ]
  },
  {
   "cell_type": "code",
   "execution_count": 5,
   "metadata": {},
   "outputs": [],
   "source": [
    "# plot the scores\n",
    "def plot_dqn(scores):\n",
    "    fig = plt.figure()\n",
    "    ax = fig.add_subplot(111)\n",
    "    plt.plot(np.arange(len(scores)), scores)\n",
    "    plt.ylabel('Score')\n",
    "    plt.xlabel('Episode #')\n",
    "    plt.show()"
   ]
  },
  {
   "cell_type": "code",
   "execution_count": 6,
   "metadata": {},
   "outputs": [
    {
     "name": "stdout",
     "output_type": "stream",
     "text": [
      "Episode 100\tAverage Score: 35.80\n"
     ]
    },
    {
     "data": {
      "image/png": "[encoded data removed]",
      "text/plain": [
       "<Figure size 432x288 with 1 Axes>"
      ]
     },
     "metadata": {
      "needs_background": "light"
     },
     "output_type": "display_data"
    }
   ],
   "source": [
    "from ddpg_agent import Agent\n",
    "agent = Agent(state_size=33, action_size=4, random_seed=2,update_every=4,\\\n",
    "         actor_fc1_units=200, actor_fc2_units=150,\\\n",
    "         critic_fcs1_units=200, critic_fc2_units=150,\\\n",
    "         gamma=0.99, tau=1e-3,lr_actor=5e-4, lr_critic=5e-4, weight_decay=0,\\\n",
    "         mu=0., theta=0.15, sigma=0.1)\n",
    "play_scores=let_agent_play()\n",
    "plot_dqn(play_scores)"
   ]
  },
  {
   "cell_type": "markdown",
   "metadata": {},
   "source": [
    "### Observation of the 20 agent version\n",
    "As you may notice, the code in **'Continuous_Control.ipynb'** is generalized for both single-agent and multi-agent. The same notebook and accompanying **\"ddpg_agent.py\" \"model.py\"** have been used to train the 20-agent version as well. The parameter for 20agent is the same with 1 single agent version, except that update_every=20. \n",
    "The training result is shown below. Compared to the single agent version, the performance of the 20agent training is more efficient-requring less episodes to train.\n",
    "![title](imag/20agent_training.png)\n",
    "\n",
    "My observation of the 20agent version is that in fact we are only using one agent, but we can interact with 20 copies of environments at the same time. During the trainig, after playing with parallel environments for a certain(20 in this case) time-steps, the agent learns from 20 minibatch consecutively. The improvement of training speed is because we can collect experiences in parallel, reducing correlations among experiences. \n",
    "\n",
    "### Ideas for future work\n",
    "\n",
    "As discussed in the Udacity instructions, the next step is to solve the second version and adopt algorithms like PPO, A3C, and D4PG that use multiple (non-interacting, parallel) copies of the same agent to distribute the task of gathering experience."
   ]
  },
  {
   "cell_type": "code",
   "execution_count": 7,
   "metadata": {},
   "outputs": [],
   "source": [
    "env.close()"
   ]
  },
  {
   "cell_type": "code",
   "execution_count": null,
   "metadata": {},
   "outputs": [],
   "source": []
  }
 ],
 "metadata": {
  "kernelspec": {
   "display_name": "Python 3",
   "language": "python",
   "name": "python3"
  },
  "language_info": {
   "codemirror_mode": {
    "name": "ipython",
    "version": 3
   },
   "file_extension": ".py",
   "mimetype": "text/x-python",
   "name": "python",
   "nbconvert_exporter": "python",
   "pygments_lexer": "ipython3",
   "version": "3.6.10"
  }
 },
 "nbformat": 4,
 "nbformat_minor": 4
}
